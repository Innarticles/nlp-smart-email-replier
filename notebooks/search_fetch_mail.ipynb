{
 "cells": [
  {
   "cell_type": "markdown",
   "metadata": {},
   "source": [
    "# Fetch Mails from Gmail using Gmail-API\n",
    "\n",
    "This is a project to search a gmail and fetch the message content."
   ]
  },
  {
   "cell_type": "code",
   "execution_count": 12,
   "metadata": {},
   "outputs": [],
   "source": [
    "#Importing required modules\n",
    "from __future__ import print_function\n",
    "import httplib2\n",
    "import os\n",
    "from googleapiclient.discovery import build\n",
    "#from apiclient import discovery\n",
    "from oauth2client import client\n",
    "from oauth2client import tools\n",
    "from oauth2client.file import Storage\n",
    "import base64\n",
    "from bs4 import BeautifulSoup\n",
    "import re\n",
    "import time\n",
    "import dateutil.parser as parser\n",
    "from datetime import datetime\n",
    "import datetime\n",
    "import email\n",
    "from cleantext import clean\n",
    "import csv\n",
    "\n",
    "\n",
    "try:\n",
    "    import argparse\n",
    "    flags = argparse.ArgumentParser(parents=[tools.argparser]).parse_args([])\n",
    "except ImportError:\n",
    "    flags = None"
   ]
  },
  {
   "cell_type": "code",
   "execution_count": 2,
   "metadata": {},
   "outputs": [],
   "source": [
    "#Defining auhorization scopes\n",
    "SCOPES = 'https://www.googleapis.com/auth/gmail.readonly'\n",
    "CLIENT_SECRET_FILE = 'credentials.json' #Name of gmail credential file\n",
    "storage = 'gmail-storage.json' #Name of storage credential retured by Gmail API\n",
    "APPLICATION_NAME = 'Gmail API Python' #Name of Application\n",
    "\n",
    "#Function to activate credential\n",
    "def get_credentials():\n",
    "    \"\"\"Gets valid user credentials from storage.\n",
    "\n",
    "    If nothing has been stored, or if the stored credentials are invalid,\n",
    "    the OAuth2 flow is completed to obtain the new credentials.\n",
    "\n",
    "    Returns:\n",
    "        Credentials, the obtained credential.\n",
    "    \"\"\"\n",
    "    path = '~/Desktop/folders/Doing_DS' #creating credential path\n",
    "    home_dir = os.path.expanduser(path)\n",
    "    credential_dir = os.path.join(home_dir, 'secrets')\n",
    "    credential_path = os.path.join(credential_dir,\n",
    "                                   CLIENT_SECRET_FILE)\n",
    "    if not os.path.exists(credential_dir):\n",
    "        os.makedirs(credential_dir)\n",
    "    storage_path = os.path.join(credential_dir,\n",
    "                                   storage)\n",
    "\n",
    "    store = Storage(storage_path)\n",
    "    credentials = store.get()\n",
    "    if not credentials or credentials.invalid:\n",
    "        flow = client.flow_from_clientsecrets(credential_path, SCOPES)\n",
    "        flow.user_agent = APPLICATION_NAME\n",
    "        if flags:\n",
    "            credentials = tools.run_flow(flow, store, flags)\n",
    "        else: # Needed only for compatibility with Python 2.6\n",
    "            credentials = tools.run(flow, store)\n",
    "        print('Storing credentials to ' + storage_path)\n",
    "    return credentials"
   ]
  },
  {
   "cell_type": "code",
   "execution_count": 3,
   "metadata": {},
   "outputs": [],
   "source": [
    "#getting credentials\n",
    "credentials = get_credentials()"
   ]
  },
  {
   "cell_type": "code",
   "execution_count": 4,
   "metadata": {},
   "outputs": [],
   "source": [
    "#A function to get authorization and create a service\n",
    "def get_service():\n",
    "    \n",
    "    #authorization of credentials\n",
    "    http = credentials.authorize(httplib2.Http())\n",
    "\n",
    "    #service variable is the access point to complete gmail API\n",
    "    service = build('gmail', 'v1', http=http)\n",
    "    \n",
    "    return service"
   ]
  },
  {
   "cell_type": "code",
   "execution_count": 5,
   "metadata": {},
   "outputs": [],
   "source": [
    "#creating the service\n",
    "service = get_service()"
   ]
  },
  {
   "cell_type": "markdown",
   "metadata": {},
   "source": [
    "## Searching Gmail to fetch mail id\n",
    "A search query is defined based on gmail search operator defined at https://support.google.com/mail/answer/7190?hl=en. \n",
    "\n",
    "A search query string is provided below as an example."
   ]
  },
  {
   "cell_type": "code",
   "execution_count": 65,
   "metadata": {},
   "outputs": [],
   "source": [
    "search_query = \"kunal.jain@analyticsvidhya.com, after:01/01/2019\" #Support@airdropalert.com,\n",
    "#bhanu@analyticsvidhya.com,  kunal.jain\n",
    "\n",
    "def filter_mail(service, query):\n",
    "    '''\n",
    "    service = a gmail service\n",
    "    \n",
    "    query = a search query\n",
    "    '''\n",
    "    \n",
    "    mail_id = service.users().messages().list(userId='me', \n",
    "                                              maxResults=5,\n",
    "                                              q=search_query).execute()['messages']\n",
    "\n",
    "    return mail_id"
   ]
  },
  {
   "cell_type": "code",
   "execution_count": 66,
   "metadata": {},
   "outputs": [],
   "source": [
    "mail_ids = filter_mail(service, query = search_query)"
   ]
  },
  {
   "cell_type": "code",
   "execution_count": 29,
   "metadata": {},
   "outputs": [],
   "source": [
    "def data_encoder(text):\n",
    "    if len(text)>0:\n",
    "        message = base64.urlsafe_b64decode(text)\n",
    "        message = str(message, 'utf-8')\n",
    "        message = email.message_from_string(message)\n",
    "    return message"
   ]
  },
  {
   "cell_type": "code",
   "execution_count": 30,
   "metadata": {},
   "outputs": [],
   "source": [
    "def readMessage(content)->str:\n",
    "    message = None\n",
    "    if \"data\" in content['payload']['body']:\n",
    "        message = content['payload']['body']['data']\n",
    "        message = data_encoder(message)\n",
    "    elif \"data\" in content['payload']['parts'][0]['body']:\n",
    "        message = content['payload']['parts'][0]['body']['data']\n",
    "        message = data_encoder(message)\n",
    "    else:\n",
    "        print(\"body has no data.\")\n",
    "    return message"
   ]
  },
  {
   "cell_type": "code",
   "execution_count": 67,
   "metadata": {},
   "outputs": [],
   "source": [
    "def fetch_mail(mail_id):\n",
    "    mail_list = []\n",
    "    \n",
    "    for ml_id in mail_id:\n",
    "        mail_dict = { }\n",
    "        m_id = ml_id['id'] # get id of individual message\n",
    "        message = service.users().messages().get(userId= 'me',\n",
    "                                                 id=m_id).execute() \n",
    "        payld = message['payload'] # get payload of the message \n",
    "        m_head = payld['headers'] # getting message payload header\n",
    "\n",
    "        \n",
    "        for sub in m_head: #Fetching the mail Subject\n",
    "            if sub['name'] == 'Subject':\n",
    "                m_subj = sub['value']\n",
    "                mail_dict['Subject'] = m_subj\n",
    "            else:\n",
    "                pass\n",
    "        \n",
    "        \n",
    "        for dt in m_head: # getting the date\n",
    "            if dt['name'] == 'Date':\n",
    "                mail_date = dt['value']\n",
    "                date_parse = (parser.parse(mail_date))\n",
    "                m_date = (date_parse.date())\n",
    "                mail_dict['Date'] = str(m_date)\n",
    "            else:\n",
    "                pass\n",
    "\n",
    "        \n",
    "        for sender in m_head: # getting the Sender\n",
    "            if sender['name'] == 'From':\n",
    "                m_from = sender['value']\n",
    "                mail_dict['Sender'] = m_from\n",
    "            else:\n",
    "                pass\n",
    "            \n",
    "        \n",
    "            \n",
    "        mssg = readMessage(message)\n",
    "        msg_body = BeautifulSoup(mssg.get_payload(), 'lxml')\n",
    "        msg_text = msg_body.body.get_text()\n",
    "        clean_text = clean(txdt, fix_unicode=True, no_line_breaks=True, no_urls=True)\n",
    "        mail_dict['Message body'] = clean_text\n",
    "        \n",
    "        \n",
    "        mail_list.append(mail_dict)\n",
    "    \n",
    "    return mail_list"
   ]
  },
  {
   "cell_type": "code",
   "execution_count": 68,
   "metadata": {
    "collapsed": true
   },
   "outputs": [
    {
     "name": "stdout",
     "output_type": "stream",
     "text": [
      "[{'Subject': '[Free Courses Launched] Linear Programming for Data Science Professionals | Naive Bayes from Scratch', 'Date': '2020-03-28', 'Sender': 'Analytics Vidhya <bhanu@analyticsvidhya.com>', 'Message body': \"is this e-mail not showing correctly? view in browser. highlights facebook libra losing its cover as members flee affiliate marketing, top high-earning programs shared. singapore published tax e-guide for tokens new exchange listings updated top airdrops bitcoin black (bcb) new a community driven project, bitcoin black introduces a p2p payment system. $36 + ref estimated value finnexus (fnx) finnexus is the new open finance protocol being built on the wanchain blockchain. $1 + ref estimated value telos (tlos) new telos airdrop is claimed on probit exchange, for more details check the airdrop page. $1 + ref estimated value oikos (oks) new oikos is a decentralised synthetic asset issuance protocol built on tron. $25k + ref share of pool mycointainer (excl) new mycointainer is a solution designed especially for newcomers to enable easy access to crypto. $6 + ref estimated value featured stories facebook started its libra project quite a while back. as more members flee, facebook is losing its cover. read more... affiliate marketing is a commonly used marketing technique in crypto. in this blog, what it is and share 9 top high-earning programs. read more... cryptocurrency adoption needs an infrastructure in the form of laws. on april 17th, singapore's tax service published tax-guidelines for digital tokens. read more... eu supercomputers are used for covid-19 research. last week, multiple supercomputers have been hijacked with crypto malware. read more... upcoming exchange listings marketpeak (peak) announcement: tweet exchange: may-26 current rate: $0.17 algorand (algo) announcement: tweet exchange: in 4 weeks current rate: $0.20 daps coin (daps) announcement: tweet exchange: listing soon current rate: $0.00 sinovate (sin) announcement: tweet exchange: june-08 current rate: $0.00 terms & conditions | privacy statement copyright airdropalert 2020. the recipients of this e-mail have been selected from the airdropalert subscriber register. if you no longer wish to receive any e-mail from airdropalert, unsubscribe here.\"}, {'Subject': '[August Sneak Peek] Biggest Data Science Quiz, DataHack Summit 2019, WNS Analytics Wizard and more...', 'Date': '2019-08-01', 'Sender': 'Analytics Vidhya <kunal.jain@analyticsvidhya.com>', 'Message body': \"is this e-mail not showing correctly? view in browser. highlights facebook libra losing its cover as members flee affiliate marketing, top high-earning programs shared. singapore published tax e-guide for tokens new exchange listings updated top airdrops bitcoin black (bcb) new a community driven project, bitcoin black introduces a p2p payment system. $36 + ref estimated value finnexus (fnx) finnexus is the new open finance protocol being built on the wanchain blockchain. $1 + ref estimated value telos (tlos) new telos airdrop is claimed on probit exchange, for more details check the airdrop page. $1 + ref estimated value oikos (oks) new oikos is a decentralised synthetic asset issuance protocol built on tron. $25k + ref share of pool mycointainer (excl) new mycointainer is a solution designed especially for newcomers to enable easy access to crypto. $6 + ref estimated value featured stories facebook started its libra project quite a while back. as more members flee, facebook is losing its cover. read more... affiliate marketing is a commonly used marketing technique in crypto. in this blog, what it is and share 9 top high-earning programs. read more... cryptocurrency adoption needs an infrastructure in the form of laws. on april 17th, singapore's tax service published tax-guidelines for digital tokens. read more... eu supercomputers are used for covid-19 research. last week, multiple supercomputers have been hijacked with crypto malware. read more... upcoming exchange listings marketpeak (peak) announcement: tweet exchange: may-26 current rate: $0.17 algorand (algo) announcement: tweet exchange: in 4 weeks current rate: $0.20 daps coin (daps) announcement: tweet exchange: listing soon current rate: $0.00 sinovate (sin) announcement: tweet exchange: june-08 current rate: $0.00 terms & conditions | privacy statement copyright airdropalert 2020. the recipients of this e-mail have been selected from the airdropalert subscriber register. if you no longer wish to receive any e-mail from airdropalert, unsubscribe here.\"}, {'Subject': 'July 2019 - Super exciting learning resources, big hackathons, conference & workshops', 'Date': '2019-07-01', 'Sender': 'Analytics Vidhya <kunal.jain@analyticsvidhya.com>', 'Message body': \"is this e-mail not showing correctly? view in browser. highlights facebook libra losing its cover as members flee affiliate marketing, top high-earning programs shared. singapore published tax e-guide for tokens new exchange listings updated top airdrops bitcoin black (bcb) new a community driven project, bitcoin black introduces a p2p payment system. $36 + ref estimated value finnexus (fnx) finnexus is the new open finance protocol being built on the wanchain blockchain. $1 + ref estimated value telos (tlos) new telos airdrop is claimed on probit exchange, for more details check the airdrop page. $1 + ref estimated value oikos (oks) new oikos is a decentralised synthetic asset issuance protocol built on tron. $25k + ref share of pool mycointainer (excl) new mycointainer is a solution designed especially for newcomers to enable easy access to crypto. $6 + ref estimated value featured stories facebook started its libra project quite a while back. as more members flee, facebook is losing its cover. read more... affiliate marketing is a commonly used marketing technique in crypto. in this blog, what it is and share 9 top high-earning programs. read more... cryptocurrency adoption needs an infrastructure in the form of laws. on april 17th, singapore's tax service published tax-guidelines for digital tokens. read more... eu supercomputers are used for covid-19 research. last week, multiple supercomputers have been hijacked with crypto malware. read more... upcoming exchange listings marketpeak (peak) announcement: tweet exchange: may-26 current rate: $0.17 algorand (algo) announcement: tweet exchange: in 4 weeks current rate: $0.20 daps coin (daps) announcement: tweet exchange: listing soon current rate: $0.00 sinovate (sin) announcement: tweet exchange: june-08 current rate: $0.00 terms & conditions | privacy statement copyright airdropalert 2020. the recipients of this e-mail have been selected from the airdropalert subscriber register. if you no longer wish to receive any e-mail from airdropalert, unsubscribe here.\"}, {'Subject': '[Big Announcement - JUNE] DHS 2019 Is Here, AI & ML BlackBelt Program Reopens & lot of free learning resources', 'Date': '2019-06-01', 'Sender': 'Analytics Vidhya <kunal.jain@analyticsvidhya.com>', 'Message body': \"is this e-mail not showing correctly? view in browser. highlights facebook libra losing its cover as members flee affiliate marketing, top high-earning programs shared. singapore published tax e-guide for tokens new exchange listings updated top airdrops bitcoin black (bcb) new a community driven project, bitcoin black introduces a p2p payment system. $36 + ref estimated value finnexus (fnx) finnexus is the new open finance protocol being built on the wanchain blockchain. $1 + ref estimated value telos (tlos) new telos airdrop is claimed on probit exchange, for more details check the airdrop page. $1 + ref estimated value oikos (oks) new oikos is a decentralised synthetic asset issuance protocol built on tron. $25k + ref share of pool mycointainer (excl) new mycointainer is a solution designed especially for newcomers to enable easy access to crypto. $6 + ref estimated value featured stories facebook started its libra project quite a while back. as more members flee, facebook is losing its cover. read more... affiliate marketing is a commonly used marketing technique in crypto. in this blog, what it is and share 9 top high-earning programs. read more... cryptocurrency adoption needs an infrastructure in the form of laws. on april 17th, singapore's tax service published tax-guidelines for digital tokens. read more... eu supercomputers are used for covid-19 research. last week, multiple supercomputers have been hijacked with crypto malware. read more... upcoming exchange listings marketpeak (peak) announcement: tweet exchange: may-26 current rate: $0.17 algorand (algo) announcement: tweet exchange: in 4 weeks current rate: $0.20 daps coin (daps) announcement: tweet exchange: listing soon current rate: $0.00 sinovate (sin) announcement: tweet exchange: june-08 current rate: $0.00 terms & conditions | privacy statement copyright airdropalert 2020. the recipients of this e-mail have been selected from the airdropalert subscriber register. if you no longer wish to receive any e-mail from airdropalert, unsubscribe here.\"}, {'Subject': '[Newsletter] Last Chance For AI & ML BlackBelt Program, New Hackathons, Free Learning Resources & much more', 'Date': '2019-05-01', 'Sender': 'Analytics Vidhya <kunal.jain@analyticsvidhya.com>', 'Message body': \"is this e-mail not showing correctly? view in browser. highlights facebook libra losing its cover as members flee affiliate marketing, top high-earning programs shared. singapore published tax e-guide for tokens new exchange listings updated top airdrops bitcoin black (bcb) new a community driven project, bitcoin black introduces a p2p payment system. $36 + ref estimated value finnexus (fnx) finnexus is the new open finance protocol being built on the wanchain blockchain. $1 + ref estimated value telos (tlos) new telos airdrop is claimed on probit exchange, for more details check the airdrop page. $1 + ref estimated value oikos (oks) new oikos is a decentralised synthetic asset issuance protocol built on tron. $25k + ref share of pool mycointainer (excl) new mycointainer is a solution designed especially for newcomers to enable easy access to crypto. $6 + ref estimated value featured stories facebook started its libra project quite a while back. as more members flee, facebook is losing its cover. read more... affiliate marketing is a commonly used marketing technique in crypto. in this blog, what it is and share 9 top high-earning programs. read more... cryptocurrency adoption needs an infrastructure in the form of laws. on april 17th, singapore's tax service published tax-guidelines for digital tokens. read more... eu supercomputers are used for covid-19 research. last week, multiple supercomputers have been hijacked with crypto malware. read more... upcoming exchange listings marketpeak (peak) announcement: tweet exchange: may-26 current rate: $0.17 algorand (algo) announcement: tweet exchange: in 4 weeks current rate: $0.20 daps coin (daps) announcement: tweet exchange: listing soon current rate: $0.00 sinovate (sin) announcement: tweet exchange: june-08 current rate: $0.00 terms & conditions | privacy statement copyright airdropalert 2020. the recipients of this e-mail have been selected from the airdropalert subscriber register. if you no longer wish to receive any e-mail from airdropalert, unsubscribe here.\"}]\n"
     ]
    }
   ],
   "source": [
    "mail_List = fetch_mail(mail_id = mail_ids)"
   ]
  },
  {
   "cell_type": "code",
   "execution_count": 75,
   "metadata": {},
   "outputs": [],
   "source": [
    "def save_data(mail_list, file_path):\n",
    "    with open(file_path, 'w', encoding='utf-8', newline = '') as csvfile: \n",
    "        #fieldnames = ['Sender','Subject','Date','Snippet','Message_body']\n",
    "        fieldnames = ['Sender','Subject','Date','Message body']\n",
    "        writer = csv.DictWriter(csvfile, fieldnames=fieldnames, delimiter = ',')\n",
    "        writer.writeheader()\n",
    "        for val in mail_list:\n",
    "            writer.writerow(val)"
   ]
  },
  {
   "cell_type": "code",
   "execution_count": 76,
   "metadata": {},
   "outputs": [],
   "source": [
    "# file paths\n",
    "raw_data_path = os.path.join(os.path.pardir,'data','raw')\n",
    "fetchmail_data_path = os.path.join(raw_data_path, 'fetched_gmail.csv')"
   ]
  },
  {
   "cell_type": "code",
   "execution_count": 77,
   "metadata": {},
   "outputs": [],
   "source": [
    "# save data\n",
    "save_data(mail_List,fetchmail_data_path)"
   ]
  },
  {
   "cell_type": "code",
   "execution_count": null,
   "metadata": {},
   "outputs": [],
   "source": []
  }
 ],
 "metadata": {
  "kernelspec": {
   "display_name": "Python 3",
   "language": "python",
   "name": "python3"
  },
  "language_info": {
   "codemirror_mode": {
    "name": "ipython",
    "version": 3
   },
   "file_extension": ".py",
   "mimetype": "text/x-python",
   "name": "python",
   "nbconvert_exporter": "python",
   "pygments_lexer": "ipython3",
   "version": "3.7.6"
  }
 },
 "nbformat": 4,
 "nbformat_minor": 4
}
