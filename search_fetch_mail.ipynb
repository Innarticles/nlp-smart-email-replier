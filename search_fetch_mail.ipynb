{
 "cells": [
  {
   "cell_type": "markdown",
   "metadata": {},
   "source": [
    "# Fetch Mails from Gmail using Gmail-API\n",
    "\n",
    "This is a project to search a gmail and fetch the message content."
   ]
  },
  {
   "cell_type": "code",
   "execution_count": 2,
   "metadata": {},
   "outputs": [],
   "source": [
    "#Importing required modules\n",
    "from __future__ import print_function\n",
    "import httplib2\n",
    "import os\n",
    "from googleapiclient.discovery import build\n",
    "#from apiclient import discovery\n",
    "from oauth2client import client\n",
    "from oauth2client import tools\n",
    "from oauth2client.file import Storage\n",
    "import base64\n",
    "from bs4 import BeautifulSoup\n",
    "import re\n",
    "import time\n",
    "import dateutil.parser as parser\n",
    "from datetime import datetime\n",
    "import datetime\n",
    "\n",
    "\n",
    "try:\n",
    "    import argparse\n",
    "    flags = argparse.ArgumentParser(parents=[tools.argparser]).parse_args([])\n",
    "except ImportError:\n",
    "    flags = None"
   ]
  },
  {
   "cell_type": "code",
   "execution_count": 3,
   "metadata": {},
   "outputs": [],
   "source": [
    "#Defining auhorization scopes\n",
    "SCOPES = 'https://www.googleapis.com/auth/gmail.readonly'\n",
    "CLIENT_SECRET_FILE = 'credentials.json' #Name of gmail credential file\n",
    "storage = 'gmail-storage.json' #Name of storage credential retured by Gmail API\n",
    "APPLICATION_NAME = 'Gmail API Python' #Name of Application\n",
    "\n",
    "#Function to activate credential\n",
    "def get_credentials():\n",
    "    \"\"\"Gets valid user credentials from storage.\n",
    "\n",
    "    If nothing has been stored, or if the stored credentials are invalid,\n",
    "    the OAuth2 flow is completed to obtain the new credentials.\n",
    "\n",
    "    Returns:\n",
    "        Credentials, the obtained credential.\n",
    "    \"\"\"\n",
    "    path = '~/Desktop/folders/Doing_DS' #creating credential path\n",
    "    home_dir = os.path.expanduser(path)\n",
    "    credential_dir = os.path.join(home_dir, 'secrets')\n",
    "    credential_path = os.path.join(credential_dir,\n",
    "                                   CLIENT_SECRET_FILE)\n",
    "    if not os.path.exists(credential_dir):\n",
    "        os.makedirs(credential_dir)\n",
    "    storage_path = os.path.join(credential_dir,\n",
    "                                   storage)\n",
    "\n",
    "    store = Storage(storage_path)\n",
    "    credentials = store.get()\n",
    "    if not credentials or credentials.invalid:\n",
    "        flow = client.flow_from_clientsecrets(credential_path, SCOPES)\n",
    "        flow.user_agent = APPLICATION_NAME\n",
    "        if flags:\n",
    "            credentials = tools.run_flow(flow, store, flags)\n",
    "        else: # Needed only for compatibility with Python 2.6\n",
    "            credentials = tools.run(flow, store)\n",
    "        print('Storing credentials to ' + storage_path)\n",
    "    return credentials"
   ]
  },
  {
   "cell_type": "code",
   "execution_count": 4,
   "metadata": {},
   "outputs": [],
   "source": [
    "#getting credentials\n",
    "credentials = get_credentials()"
   ]
  },
  {
   "cell_type": "code",
   "execution_count": 5,
   "metadata": {},
   "outputs": [],
   "source": [
    "#A function to get authorization and create a service\n",
    "def get_service():\n",
    "    \n",
    "    #authorization of credentials\n",
    "    http = credentials.authorize(httplib2.Http())\n",
    "\n",
    "    #service variable is the access point to complete gmail API\n",
    "    service = build('gmail', 'v1', http=http)\n",
    "    \n",
    "    return service"
   ]
  },
  {
   "cell_type": "code",
   "execution_count": 6,
   "metadata": {},
   "outputs": [],
   "source": [
    "#creating the service\n",
    "service = get_service()"
   ]
  },
  {
   "cell_type": "markdown",
   "metadata": {},
   "source": [
    "## Searching Gmail to fetch mail id\n",
    "A search query is defined based on gmail search operator defined at https://support.google.com/mail/answer/7190?hl=en. \n",
    "\n",
    "A search query string is provide below as an example."
   ]
  },
  {
   "cell_type": "code",
   "execution_count": 7,
   "metadata": {},
   "outputs": [],
   "source": [
    "search_query = \"from:nigeria@nigeria.com, before:10/08/2019\" \n",
    "def filter_mail(service, query):\n",
    "    \n",
    "    mail_id = service.users().messages().list(userId='me', \n",
    "                                              maxResults=10,\n",
    "                                              q=search_query).execute()['messages']\n",
    "\n",
    "    return mail_id "
   ]
  },
  {
   "cell_type": "code",
   "execution_count": 8,
   "metadata": {},
   "outputs": [],
   "source": [
    "mail_ids = filter_mail(service, query = search_query)"
   ]
  },
  {
   "cell_type": "code",
   "execution_count": 15,
   "metadata": {},
   "outputs": [],
   "source": [
    "def fetch_mail(mail_id):\n",
    "    mail_list = []\n",
    "    \n",
    "    for ml_id in mail_id:\n",
    "        mail_dict = { }\n",
    "        m_id = ml_id['id'] # get id of individual message\n",
    "        message = service.users().messages().get(userId= 'me',\n",
    "                                                 id=m_id).execute() \n",
    "        payld = message['payload'] # get payload of the message \n",
    "        m_head = payld['headers'] # getting message payload header\n",
    "\n",
    "        \n",
    "        for sub in m_head: #Fetching the mail Subject\n",
    "            if sub['name'] == 'Subject':\n",
    "                m_subj = sub['value']\n",
    "                mail_dict['Subject'] = m_subj\n",
    "            else:\n",
    "                pass\n",
    "        \n",
    "        \n",
    "        for dt in m_head: # getting the date\n",
    "            if dt['name'] == 'Date':\n",
    "                mail_date = dt['value']\n",
    "                date_parse = (parser.parse(mail_date))\n",
    "                m_date = (date_parse.date())\n",
    "                mail_dict['Date'] = str(m_date)\n",
    "            else:\n",
    "                pass\n",
    "\n",
    "        \n",
    "        for sender in m_head: # getting the Sender\n",
    "            if sender['name'] == 'From':\n",
    "                m_from = sender['value']\n",
    "                mail_dict['Sender'] = m_from\n",
    "            else:\n",
    "                pass\n",
    "            \n",
    "        mail_dict['Snippet'] = message['snippet'] # fetching message snippet\n",
    "            \n",
    "        try:\n",
    "            # Fetching message body\n",
    "            mssg_parts = payld['parts'] # fetching the message parts\n",
    "            part_one = mssg_parts[0] # fetching first element of the part \n",
    "            part_body = part_one['body'] # fetching body of the message\n",
    "            part_data = part_body['data'] # fetching data from the body\n",
    "            clean_one = part_data.replace(\"-\",\"+\") # decoding from Base64 to UTF-8\n",
    "            clean_one = clean_one.replace(\"_\",\"/\") # decoding from Base64 to UTF-8\n",
    "            clean_two = base64.b64decode(bytes(clean_one, 'UTF-8')) # decoding from Base64 to UTF-8\n",
    "            soup = BeautifulSoup(clean_two , \"lxml\")\n",
    "            mssg_body = soup.body()\n",
    "            #print(mssg_body)\n",
    "            mail_dict['Message body'] = mssg_body\n",
    "            \n",
    "        except:\n",
    "            pass\n",
    "        \n",
    "        mail_list.append(mail_dict)\n",
    "    \n",
    "    return mail_list"
   ]
  },
  {
   "cell_type": "code",
   "execution_count": 16,
   "metadata": {},
   "outputs": [
    {
     "name": "stdout",
     "output_type": "stream",
     "text": [
      "[{'Subject': 'Huge Tron TRX Airdrop', 'Date': '2019-10-03', 'Sender': 'AirdropAlert <Support@airdropalert.com>', 'Snippet': 'Best Airdrops only at Airdropalert.com Highlights Up to $45 from Top Airdrops Foundations of Ethereum Now you can earn ETH as well with AirdropAlert! Know Coding? $400k USD Telegram Competition. Top'}, {'Subject': 'We bring you the Crypto Pro Plan', 'Date': '2019-10-01', 'Sender': 'AirdropAlert <Support@airdropalert.com>', 'Snippet': 'Airdropalert.com Last week we have reached out to announce the Pro Plan. Due to unexpected high traffic, the payment provider&#39;s servers got overloaded! Thankfully the issue has been resolved now'}, {'Subject': \"Vitalik's Life Story\", 'Date': '2019-09-19', 'Sender': 'AirdropAlert <Support@airdropalert.com>', 'Snippet': 'Best Airdrops only at Airdropalert.com Highlights Up to $25 from Top Airdrops Airdrops in your wallet entirely automatic? The story of Vitalik Buterin AirdropAlert listed in Rotterdam Capital Week 2019'}, {'Subject': 'Giveaway - 5,000.00 NEXO Tokens', 'Date': '2019-09-17', 'Sender': 'AirdropAlert <Support@airdropalert.com>', 'Snippet': 'This is an AirdropAlert promotional e-mail. Airdropalert.com Nexo Changelly Nexo and Changelly are giving you the opportunity to win 1 of 5 prizes each worth of 1000 NEXO. How to win? Login into your'}, {'Subject': \"China's Central Bank is Ready\", 'Date': '2019-09-13', 'Sender': 'AirdropAlert <Support@airdropalert.com>', 'Snippet': 'Best Airdrops only at Airdropalert.com Highlights Up to $47 from Top Airdrops People&#39;s Bank of China planning its cryptocurrency Special release on IP law and software Ripple accepted for the Pro'}, {'Subject': 'Featuring Two Airdrops', 'Date': '2019-09-12', 'Sender': 'AirdropAlert <Support@airdropalert.com>', 'Snippet': 'Airdropalert.com Airdrop Alerts Blockchain introduces neat features enabling the autonomous function of a financial ledger, whilst being decentralized. It is not clear what the limits are, but new'}, {'Subject': 'Making Airdrops Easy', 'Date': '2019-09-06', 'Sender': 'AirdropAlert <Support@airdropalert.com>', 'Snippet': 'Best Airdrops only at Airdropalert.com Highlights Up to $57 from Top Airdrops Mitrade Exchange organizing a mini-Bounty The battle between NEO and Ethereum How to view tokens in the Dashboard Wallet'}, {'Subject': 'Trending Wave of Giveaways', 'Date': '2019-08-29', 'Sender': 'AirdropAlert <Support@airdropalert.com>', 'Snippet': 'Best Airdrops only at Airdropalert.com Highlights Up to $98 from Top Airdrops Why will Ripple give away $250 Million USD in XRP? To get more Crypto, you can do more than Airdrops Huawei P30 Pro&#39;s,'}, {'Subject': 'Ripple to give away a billion XRP', 'Date': '2019-08-22', 'Sender': 'AirdropAlert <Support@airdropalert.com>', 'Snippet': 'Best Airdrops only at Airdropalert.com Highlights Up to $28 from Top Airdrops Ripple to give away one billion XRP! Great Airdrops of the past month summarized Dashboard Wallet Features Explained Top'}, {'Subject': \"2 Airdrops you don't want to miss\", 'Date': '2019-08-20', 'Sender': 'AirdropAlert <Support@airdropalert.com>', 'Snippet': 'Airdropalert.com Airdrop Alerts This is an Alert of Two Airdrops you don&#39;t want to miss. Participate in the Airdrop campaigns to earn Free Crypto for little effort. In this email we alert you of'}]\n"
     ]
    }
   ],
   "source": [
    "mail_List = fetch_mail(mail_id = mail_ids)\n",
    "print(mail_List)"
   ]
  },
  {
   "cell_type": "code",
   "execution_count": null,
   "metadata": {},
   "outputs": [],
   "source": []
  }
 ],
 "metadata": {
  "kernelspec": {
   "display_name": "Python 3",
   "language": "python",
   "name": "python3"
  },
  "language_info": {
   "codemirror_mode": {
    "name": "ipython",
    "version": 3
   },
   "file_extension": ".py",
   "mimetype": "text/x-python",
   "name": "python",
   "nbconvert_exporter": "python",
   "pygments_lexer": "ipython3",
   "version": "3.7.6"
  }
 },
 "nbformat": 4,
 "nbformat_minor": 4
}
